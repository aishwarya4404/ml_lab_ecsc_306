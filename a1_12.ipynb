{
 "cells": [
  {
   "cell_type": "code",
   "execution_count": 7,
   "metadata": {},
   "outputs": [
    {
     "name": "stdout",
     "output_type": "stream",
     "text": [
      "43.8483\n",
      "45.59\n",
      "[[ -0.24833298  41.15166855   1.65166855 -39.61833191 -37.88833237\n",
      "   34.9516716 ]]\n",
      "5923.01\n"
     ]
    }
   ],
   "source": [
    "import numpy as np\n",
    "import tensorflow as tf\n",
    "a = tf.constant([43.6, 85.0, 45.5, 4.23, 5.96, 78.8], shape=[1,6], name='a')\n",
    "b = tf.constant([85.26, 45.23, 52, 5.85, 6.7, 78.5], shape=[1,6], name='b')\n",
    "with tf.name_scope(\"mean_A\"):\n",
    "    mean_a=tf.reduce_mean(a)\n",
    "ses1=tf.Session()\n",
    "print(ses1.run(mean_a))\n",
    "with tf.name_scope(\"mean_B\"):\n",
    "    mean_b=tf.reduce_mean(b)\n",
    "ses2=tf.Session()\n",
    "print(ses2.run(mean_b))\n",
    "with tf.name_scope(\"variance\"):\n",
    "    d=tf.subtract(a,mean_a)\n",
    "sess=tf.Session()\n",
    "print(sess.run(d))\n",
    "\n",
    "e=tf.square(d)\n",
    "variance=tf.reduce_sum(e)\n",
    "sess=tf.Session()\n",
    "print(sess.run(variance))\n"
   ]
  },
  {
   "cell_type": "code",
   "execution_count": 8,
   "metadata": {},
   "outputs": [
    {
     "name": "stdout",
     "output_type": "stream",
     "text": [
      "836.818\n"
     ]
    }
   ],
   "source": [
    "with tf.name_scope(\"covariance\"):\n",
    "    g=tf.subtract(b,mean_b)\n",
    "sess=tf.Session()\n",
    "g=tf.multiply(d,g)\n",
    "cov_xy=tf.reduce_sum(g)\n",
    "cov=tf.divide(cov_xy,5)\n",
    "print(sess.run(cov))"
   ]
  },
  {
   "cell_type": "code",
   "execution_count": 9,
   "metadata": {
    "scrolled": true
   },
   "outputs": [
    {
     "name": "stdout",
     "output_type": "stream",
     "text": [
      "0.141283\n",
      "39.395\n"
     ]
    }
   ],
   "source": [
    "with tf.name_scope(\"value_of_m\"):\n",
    "    c=tf.divide(cov,variance)\n",
    "    print(sess.run(c))\n",
    "\n",
    "with tf.name_scope(\"value_of_c\"):\n",
    "    i=tf.multiply(c,mean_a)\n",
    "    k=tf.subtract(mean_b,i)\n",
    "print(sess.run(k))\n",
    "\n",
    "with tf.Session() as sess:\n",
    "    writer = tf.summary.FileWriter(\"/tmp/tboard/output1\", sess.graph)\n",
    "    writer.close()"
   ]
  },
  {
   "cell_type": "code",
   "execution_count": null,
   "metadata": {
    "collapsed": true
   },
   "outputs": [],
   "source": []
  },
  {
   "cell_type": "code",
   "execution_count": null,
   "metadata": {
    "collapsed": true
   },
   "outputs": [],
   "source": []
  }
 ],
 "metadata": {
  "kernelspec": {
   "display_name": "Python 3",
   "language": "python",
   "name": "python3"
  },
  "language_info": {
   "codemirror_mode": {
    "name": "ipython",
    "version": 3
   },
   "file_extension": ".py",
   "mimetype": "text/x-python",
   "name": "python",
   "nbconvert_exporter": "python",
   "pygments_lexer": "ipython3",
   "version": "3.6.1"
  }
 },
 "nbformat": 4,
 "nbformat_minor": 2
}
